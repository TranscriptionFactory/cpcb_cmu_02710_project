{
 "cells": [
  {
   "cell_type": "code",
   "execution_count": 7,
   "metadata": {},
   "outputs": [],
   "source": [
    "import os\n",
    "import sys\n",
    "import re\n",
    "import glob\n"
   ]
  },
  {
   "cell_type": "code",
   "execution_count": 8,
   "metadata": {},
   "outputs": [
    {
     "data": {
      "text/plain": [
       "['/net/dali/home/mscbio/aar126/genomics/jubilant-barnacle/CSHMM-for-time-series-scRNA-Seq-py3/CSHMM_TF_analysis_release.py',\n",
       " '/net/dali/home/mscbio/aar126/genomics/jubilant-barnacle/CSHMM-for-time-series-scRNA-Seq-py3/CSHMM_TF_train_release.py',\n",
       " '/net/dali/home/mscbio/aar126/genomics/jubilant-barnacle/CSHMM-for-time-series-scRNA-Seq-py3/example_train_and_analysis.py',\n",
       " '/net/dali/home/mscbio/aar126/genomics/jubilant-barnacle/CSHMM-for-time-series-scRNA-Seq-py3/scdiff_init.py']"
      ]
     },
     "execution_count": 8,
     "metadata": {},
     "output_type": "execute_result"
    }
   ],
   "source": [
    "# get all python files in directory\n",
    "file_path = \"/net/dali/home/mscbio/aar126/genomics/jubilant-barnacle/CSHMM-for-time-series-scRNA-Seq-py3/*.py\"\n",
    "py2_files = glob.glob(file_path)\n",
    "py2_files"
   ]
  },
  {
   "cell_type": "code",
   "execution_count": 9,
   "metadata": {},
   "outputs": [],
   "source": [
    "# Define the regular expression pattern to match Python 2 print statements\n",
    "pattern = r\"print\\s(.*)\"\n"
   ]
  },
  {
   "cell_type": "code",
   "execution_count": 10,
   "metadata": {},
   "outputs": [
    {
     "ename": "ValueError",
     "evalue": "must have exactly one of create/read/write/append mode",
     "output_type": "error",
     "traceback": [
      "\u001b[0;31m---------------------------------------------------------------------------\u001b[0m",
      "\u001b[0;31mValueError\u001b[0m                                Traceback (most recent call last)",
      "\u001b[0;32m<ipython-input-10-47fff06035ec>\u001b[0m in \u001b[0;36m<module>\u001b[0;34m\u001b[0m\n\u001b[1;32m      1\u001b[0m \u001b[0;32mfor\u001b[0m \u001b[0mfp\u001b[0m \u001b[0;32min\u001b[0m \u001b[0mpy2_files\u001b[0m\u001b[0;34m:\u001b[0m\u001b[0;34m\u001b[0m\u001b[0;34m\u001b[0m\u001b[0m\n\u001b[1;32m      2\u001b[0m     \u001b[0;31m# Open the Python 2 file for reading\u001b[0m\u001b[0;34m\u001b[0m\u001b[0;34m\u001b[0m\u001b[0;34m\u001b[0m\u001b[0m\n\u001b[0;32m----> 3\u001b[0;31m     \u001b[0;32mwith\u001b[0m \u001b[0mopen\u001b[0m\u001b[0;34m(\u001b[0m\u001b[0mfp\u001b[0m\u001b[0;34m,\u001b[0m \u001b[0;34m\"rw\"\u001b[0m\u001b[0;34m)\u001b[0m \u001b[0;32mas\u001b[0m \u001b[0mf\u001b[0m\u001b[0;34m:\u001b[0m\u001b[0;34m\u001b[0m\u001b[0;34m\u001b[0m\u001b[0m\n\u001b[0m\u001b[1;32m      4\u001b[0m \u001b[0;34m\u001b[0m\u001b[0m\n\u001b[1;32m      5\u001b[0m         \u001b[0;31m# Read the content of the Python 2 file\u001b[0m\u001b[0;34m\u001b[0m\u001b[0;34m\u001b[0m\u001b[0;34m\u001b[0m\u001b[0m\n",
      "\u001b[0;31mValueError\u001b[0m: must have exactly one of create/read/write/append mode"
     ]
    }
   ],
   "source": [
    "for fp in py2_files:\n",
    "    # Open the Python 2 file for reading\n",
    "    with open(fp, \"r\") as f:\n",
    "\n",
    "        # Read the content of the Python 2 file\n",
    "        content = f.read()\n",
    "\n",
    "        # Use the regular expression pattern to find all the Python 2 print statements\n",
    "        matches = re.findall(pattern, content)\n",
    "\n",
    "        # Replace each Python 2 print statement with a Python 3 print function call\n",
    "        for match in matches:\n",
    "            new_match = \"print(\" + match + \")\"\n",
    "            content = content.replace(\"print \" + match, new_match)\n",
    "\n",
    "        # overwrite file\n",
    "        with open(fp, \"w\") as f:\n",
    "            f.write(content)\n",
    "\n",
    "    print(\"Conversion completed successfully!\")"
   ]
  },
  {
   "cell_type": "code",
   "execution_count": null,
   "metadata": {},
   "outputs": [],
   "source": []
  }
 ],
 "metadata": {
  "kernelspec": {
   "display_name": "Python 3",
   "language": "python",
   "name": "python3"
  },
  "language_info": {
   "codemirror_mode": {
    "name": "ipython",
    "version": 3
   },
   "file_extension": ".py",
   "mimetype": "text/x-python",
   "name": "python",
   "nbconvert_exporter": "python",
   "pygments_lexer": "ipython3",
   "version": "3.7.7"
  }
 },
 "nbformat": 4,
 "nbformat_minor": 4
}
