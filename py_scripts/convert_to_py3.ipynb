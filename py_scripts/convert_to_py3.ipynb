{
 "cells": [
  {
   "cell_type": "code",
   "execution_count": 13,
   "metadata": {},
   "outputs": [],
   "source": [
    "import os\n",
    "import sys\n",
    "import re\n",
    "import glob\n"
   ]
  },
  {
   "cell_type": "code",
   "execution_count": 25,
   "metadata": {},
   "outputs": [
    {
     "data": {
      "text/plain": [
       "'/net/dali/home/mscbio/aar126/genomics/jubilant-barnacle/CSHMM-for-time-series-scRNA-Seq/CSHMM_train.py'"
      ]
     },
     "execution_count": 25,
     "metadata": {},
     "output_type": "execute_result"
    }
   ],
   "source": [
    "# get all python files in directory\n",
    "file_path = \"/net/dali/home/mscbio/aar126/genomics/jubilant-barnacle/CSHMM-for-time-series-scRNA-Seq/*.py\"\n",
    "py2_files = glob.glob(file_path)\n",
    "py2_files[1]"
   ]
  },
  {
   "cell_type": "code",
   "execution_count": 29,
   "metadata": {},
   "outputs": [],
   "source": [
    "# Define the regular expression pattern to match Python 2 print statements\n",
    "pattern = r\"print\\s(.*)\"\n"
   ]
  },
  {
   "cell_type": "code",
   "execution_count": 30,
   "metadata": {},
   "outputs": [
    {
     "name": "stdout",
     "output_type": "stream",
     "text": [
      "Conversion completed successfully!\n"
     ]
    }
   ],
   "source": [
    "# for fp in py2_files[1]:\n",
    "# Open the Python 2 file for reading\n",
    "with open(py2_files[1], \"r\") as f:\n",
    "\n",
    "    # Read the content of the Python 2 file\n",
    "    content = f.read()\n",
    "\n",
    "    # Use the regular expression pattern to find all the Python 2 print statements\n",
    "    matches = re.findall(pattern, content)\n",
    "\n",
    "    # Replace each Python 2 print statement with a Python 3 print function call\n",
    "    for match in matches:\n",
    "        new_match = \"print(\" + match + \")\"\n",
    "        content = content.replace(\"print \" + match, new_match)\n",
    "\n",
    "    # test file name\n",
    "    new_file_name = py2_files[1].split(\".py\")[0] + \"py3.py\"\n",
    "    # overwrite file\n",
    "    with open(new_file_name, \"w\") as f:\n",
    "        f.write(content)\n",
    "\n",
    "    print(\"Conversion completed successfully!\")"
   ]
  },
  {
   "cell_type": "code",
   "execution_count": null,
   "metadata": {},
   "outputs": [],
   "source": []
  }
 ],
 "metadata": {
  "kernelspec": {
   "display_name": "Python 3",
   "language": "python",
   "name": "python3"
  },
  "language_info": {
   "codemirror_mode": {
    "name": "ipython",
    "version": 3
   },
   "file_extension": ".py",
   "mimetype": "text/x-python",
   "name": "python",
   "nbconvert_exporter": "python",
   "pygments_lexer": "ipython3",
   "version": "3.7.7"
  }
 },
 "nbformat": 4,
 "nbformat_minor": 4
}
