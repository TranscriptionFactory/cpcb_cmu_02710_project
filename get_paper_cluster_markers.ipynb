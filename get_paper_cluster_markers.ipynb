{
 "cells": [
  {
   "cell_type": "code",
   "execution_count": 130,
   "metadata": {},
   "outputs": [],
   "source": [
    "import pandas as pd\n",
    "import numpy as np"
   ]
  },
  {
   "cell_type": "code",
   "execution_count": 131,
   "metadata": {},
   "outputs": [],
   "source": [
    "cluster_id = 'TcellDev/Data/T_cell_development/cell_cluster15_self_modcell.txt'\n",
    "\n",
    "gene_id = 'TcellDev/Data/T_cell_development/marker_gene15_self_order.txt'"
   ]
  },
  {
   "cell_type": "code",
   "execution_count": 132,
   "metadata": {},
   "outputs": [],
   "source": [
    "cdf = pd.read_csv(cluster_id, sep = \"\\t\")\n",
    "gdf = pd.read_csv(gene_id, sep = \"\\t\")"
   ]
  },
  {
   "cell_type": "code",
   "execution_count": 133,
   "metadata": {},
   "outputs": [],
   "source": [
    "\n",
    "\n",
    "cgmap = gdf.merge(cdf[['res.2', 'bigstage']], how = \"left\", left_on = 'cluster',\n",
    "                   right_on = 'res.2').drop_duplicates().reset_index(drop = True)"
   ]
  },
  {
   "cell_type": "code",
   "execution_count": 134,
   "metadata": {},
   "outputs": [],
   "source": [
    "keep_clust = cdf['bigstage'].unique()[:-2]"
   ]
  },
  {
   "cell_type": "code",
   "execution_count": 135,
   "metadata": {},
   "outputs": [
    {
     "data": {
      "text/plain": [
       "array(['1DN', '2preDP', '3DPbla', '4DPre', '5DPsel', '6CD4sp', '7CD8sp'],\n",
       "      dtype=object)"
      ]
     },
     "execution_count": 135,
     "metadata": {},
     "output_type": "execute_result"
    }
   ],
   "source": [
    "keep_clust"
   ]
  },
  {
   "cell_type": "code",
   "execution_count": 123,
   "metadata": {},
   "outputs": [],
   "source": [
    "clust_mask = [(x in keep_clust) for x in cgmap.bigstage]"
   ]
  },
  {
   "cell_type": "code",
   "execution_count": 124,
   "metadata": {},
   "outputs": [],
   "source": [
    "# remove clusters we don't want\n",
    "\n",
    "cgmap = cgmap[clust_mask]"
   ]
  },
  {
   "cell_type": "code",
   "execution_count": 127,
   "metadata": {},
   "outputs": [],
   "source": [
    "# now get top 100 pvalues\n",
    "\n",
    "cgmap_top = cgmap.iloc[np.argsort(cgmap['p_val_adj'])[:100]].reset_index(drop = True)"
   ]
  },
  {
   "cell_type": "code",
   "execution_count": 129,
   "metadata": {},
   "outputs": [],
   "source": [
    "#cgmap_top[['gene', 'bigstage']].to_csv('top_markers.csv', sep = \"\\t\")"
   ]
  }
 ],
 "metadata": {
  "kernelspec": {
   "display_name": "Python 2",
   "language": "python",
   "name": "python2"
  },
  "language_info": {
   "codemirror_mode": {
    "name": "ipython",
    "version": 2
   },
   "file_extension": ".py",
   "mimetype": "text/x-python",
   "name": "python",
   "nbconvert_exporter": "python",
   "pygments_lexer": "ipython2",
   "version": "2.7.15"
  }
 },
 "nbformat": 4,
 "nbformat_minor": 4
}
