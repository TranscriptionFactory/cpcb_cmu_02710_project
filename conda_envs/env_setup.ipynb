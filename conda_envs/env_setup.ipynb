{
 "cells": [
  {
   "cell_type": "markdown",
   "metadata": {},
   "source": [
    "# 1. create env\n",
    "\n",
    "`conda create -n cshmm python=2.7 ipykernel`\n",
    "\n",
    "`source activate cshmm`\n",
    "\n",
    "## 2. install scdiff via pip\n",
    "\n",
    "check `which pip` to make sure its the pip in your conda environment\n",
    "\n",
    "these should download all the dependencies for scdiff\n",
    "\n",
    "`pip install pydiffmap==0.1 imbalanced_learn==0.4.2 pandas`\n",
    "\n",
    "then\n",
    "`pip install scdiff`\n",
    "\n",
    "## 3. then, install the gprofiler for cshmm\n",
    "\n",
    "`pip install gprofiler-official==0.2.3`\n",
    "\n",
    "\n",
    "## 4. Install CSHMM dependencies\n",
    "install these before installing cvxpy\n",
    "\n",
    "`pip install cvxopt==1.1.6 ecos==2.0.5 scs==1.2.7`\n",
    "\n",
    "\n",
    "`pip install cvxpy==0.2.25 networkx`\n",
    "\n",
    "`conda install -c conda-forge pygraphviz=1.5 `\n",
    "\n",
    "\n",
    "\n",
    "## 4 Make python2 notebooks on jupyter on the cluster\n",
    "You should have the choice of doing python2 or python 3"
   ]
  },
  {
   "cell_type": "markdown",
   "metadata": {},
   "source": [
    "# For scdiff2:"
   ]
  },
  {
   "cell_type": "markdown",
   "metadata": {},
   "source": [
    "`conda create -n scdiff2 -c conda-forge scipy numpy scikit-learn matplotlib anndata scanpy pandas h5py leidenalg`\n",
    "\n",
    "\n",
    "`source activate scdiff2`"
   ]
  },
  {
   "cell_type": "markdown",
   "metadata": {},
   "source": [
    "`pip3 install --upgrade https://github.com/phoenixding/scdiff2/zipball/master`"
   ]
  },
  {
   "cell_type": "code",
   "execution_count": null,
   "metadata": {},
   "outputs": [],
   "source": []
  }
 ],
 "metadata": {
  "kernelspec": {
   "display_name": "Python 3",
   "language": "python",
   "name": "python3"
  },
  "language_info": {
   "codemirror_mode": {
    "name": "ipython",
    "version": 3
   },
   "file_extension": ".py",
   "mimetype": "text/x-python",
   "name": "python",
   "nbconvert_exporter": "python",
   "pygments_lexer": "ipython3",
   "version": "3.7.7"
  }
 },
 "nbformat": 4,
 "nbformat_minor": 4
}
