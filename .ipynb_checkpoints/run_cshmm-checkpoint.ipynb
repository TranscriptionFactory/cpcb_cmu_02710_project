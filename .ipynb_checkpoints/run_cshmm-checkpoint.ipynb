{
 "cells": [
  {
   "cell_type": "code",
   "execution_count": 1,
   "metadata": {},
   "outputs": [],
   "source": [
    "import sys\n",
    "sys.path.insert(0, './CSHMM-for-time-series-scRNA-Seq/')\n",
    "import pandas as pd\n",
    "import os\n",
    "import subprocess"
   ]
  },
  {
   "cell_type": "code",
   "execution_count": 2,
   "metadata": {},
   "outputs": [],
   "source": [
    "import scdiff_init"
   ]
  },
  {
   "cell_type": "code",
   "execution_count": 3,
   "metadata": {},
   "outputs": [],
   "source": [
    "data_file = 'data/tcell_data.E'\n",
    "\n",
    "tf_dna_path = '/net/dali/home/mscbio/aar126/genomics/jubilant-barnacle/scdiff/tf_dna/Mouse_TF_targets.txt'\n",
    "\n",
    "#initial clusters - number of time points? \n",
    "kc = 7"
   ]
  },
  {
   "cell_type": "code",
   "execution_count": null,
   "metadata": {},
   "outputs": [],
   "source": [
    "scdiff_init.run_scdiff_init(data_file, tf_dna_path, kc)"
   ]
  },
  {
   "cell_type": "code",
   "execution_count": null,
   "metadata": {},
   "outputs": [],
   "source": [
    "cmd = \"python CSHMM_train.py \\\n",
    "--data_file data/tcell_data.E \\\n",
    "--structure_file init_cluster_tcell_data.E.txt \\\n",
    "--n_split 100 \\\n",
    "-ng 16000 \\\n",
    "--n_iteration 2 \\\n",
    "--cross_validation 0 \\\n",
    "--random_seed 0 \\\n",
    "--model_name lung_developmental\""
   ]
  }
 ],
 "metadata": {
  "kernelspec": {
   "display_name": "Python 2",
   "language": "python",
   "name": "python2"
  },
  "language_info": {
   "codemirror_mode": {
    "name": "ipython",
    "version": 2
   },
   "file_extension": ".py",
   "mimetype": "text/x-python",
   "name": "python",
   "nbconvert_exporter": "python",
   "pygments_lexer": "ipython2",
   "version": "2.7.15"
  }
 },
 "nbformat": 4,
 "nbformat_minor": 4
}
