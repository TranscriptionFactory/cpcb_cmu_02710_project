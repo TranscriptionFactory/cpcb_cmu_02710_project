{
 "cells": [
  {
   "cell_type": "markdown",
   "metadata": {},
   "source": [
    "## 1. create env\n",
    "\n",
    "`conda create -n cshmm python=2.7 ipykernel`\n",
    "\n",
    "`source activate cshmm`\n",
    "\n",
    "## 2. install scdiff via pip\n",
    "\n",
    "check `which pip` to make sure its the pip in your conda environment\n",
    "\n",
    "these should download all the dependencies for scdiff\n",
    "\n",
    "`pip install pydiffmap==0.1 imbalanced_learn==0.4.2`\n",
    "\n",
    "then\n",
    "`pip install scdiff`\n",
    "\n",
    "## 3. then, install the gprofiler for cshmm\n",
    "\n",
    "`pip install gprofiler-official==0.2.3`\n",
    "\n",
    "## 4 Make python2 notebooks on jupyter on the cluster\n"
   ]
  },
  {
   "cell_type": "code",
   "execution_count": null,
   "metadata": {},
   "outputs": [],
   "source": []
  }
 ],
 "metadata": {
  "kernelspec": {
   "display_name": "Python 3",
   "language": "python",
   "name": "python3"
  },
  "language_info": {
   "codemirror_mode": {
    "name": "ipython",
    "version": 3
   },
   "file_extension": ".py",
   "mimetype": "text/x-python",
   "name": "python",
   "nbconvert_exporter": "python",
   "pygments_lexer": "ipython3",
   "version": "3.7.7"
  }
 },
 "nbformat": 4,
 "nbformat_minor": 4
}
